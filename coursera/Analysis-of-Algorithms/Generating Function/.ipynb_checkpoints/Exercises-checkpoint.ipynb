{
 "cells": [
  {
   "cell_type": "markdown",
   "metadata": {},
   "source": [
    "**3.20** Solve the recurrence \\\\(a_n=3a_{n-1}-3a_{n-2}+a_{n-3}\\quad \\ \\text{for} \\ n>2 \\ \\text{with} \\ a_0=a_1=0 \\ \\text{and} \\ a_2=1\\\\)."
   ]
  },
  {
   "cell_type": "markdown",
   "metadata": {},
   "source": [
    "This gives:\n",
    "$$g(z) = 1-z+3z^2-3z^3 = (1 - z)(1 + 3z^2)$$\n",
    "\n",
    "and\n",
    "$$f(z) = z^2 \\ g(z) \\ (mod \\ z^3) = (z^2 - z^3) \\ (1 + 3z^2) \\ (mod \\ z^3) = z^2$$\n",
    "\n",
    "so\n",
    "$$\\eqalign{a(z) = \\frac{f(z)}{g(z)} &= \\frac{z^2}{(1 - z)(1 + 3z^2)}\\\\ &= \\frac{1}{(1-z)} . \\frac{z^2}{1+3z^2}}$$\n",
    "\n",
    "Then, **I give up**\n",
    "\n"
   ]
  },
  {
   "cell_type": "markdown",
   "metadata": {},
   "source": [
    "Solve the same recurrence with the initial condition on \\\\(a_1\\\\) changed to \\\\(a_1 = 1\\\\):\n",
    "\n",
    "\\\\(g(z)\\\\) has same value, but \\\\(f(z)\\\\) changed into:\n",
    "\n",
    "$$f(z) = (z+z^2) \\ g(z) \\ (mod \\ z^3) = (z+z^2) \\ (1 - z)(1 + 3z^2) \\ (mod \\ z^3) = z$$\n",
    "\n",
    "so,\n",
    "\n",
    "$$\\eqalign{a(z) = \\frac{f(z)}{g(z)} &= \\frac{z}{(1 - z)(1 + 3z^2)}\\\\ &= \\frac{1}{(1-z)} . \\frac{z}{1+3z^2}\\\\ &= \\frac{1}{3} \\big(\\frac{1}{(1+3z^2)} - \\frac{1}{1-z} \\big) }$$\n",
    "\n",
    "That gives us:\n",
    "\n",
    "$$\\eqalign{a(n) &= \\frac{1}{3}(3^nz^{2n} - z^n)\\\\ &= \\frac{1}{3}(3^n - 1) }$$\n",
    "\n"
   ]
  },
  {
   "cell_type": "markdown",
   "metadata": {},
   "source": [
    "**3.28** Find an expression for \\\\([z^n]{1\\over\\sqrt{1-z}}\\ln{1\\over1-z}\\\\).\n",
    "\n",
    "Hint. Expand \\\\((1-z)^{-\\alpha}\\\\) and differentiate with respect to \\\\(\\alpha\\\\)."
   ]
  },
  {
   "cell_type": "markdown",
   "metadata": {},
   "source": []
  }
 ],
 "metadata": {
  "kernelspec": {
   "display_name": "Python 3",
   "language": "python",
   "name": "python3"
  },
  "language_info": {
   "codemirror_mode": {
    "name": "ipython",
    "version": 3
   },
   "file_extension": ".py",
   "mimetype": "text/x-python",
   "name": "python",
   "nbconvert_exporter": "python",
   "pygments_lexer": "ipython3",
   "version": "3.6.5"
  }
 },
 "nbformat": 4,
 "nbformat_minor": 2
}
